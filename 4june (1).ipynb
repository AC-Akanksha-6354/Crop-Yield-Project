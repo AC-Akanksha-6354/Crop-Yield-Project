{
 "cells": [
  {
   "cell_type": "code",
   "execution_count": 114,
   "id": "c8c90b93-4d4c-46d4-80b5-37ad4814f306",
   "metadata": {},
   "outputs": [],
   "source": [
    "import pandas as pd   "
   ]
  },
  {
   "cell_type": "code",
   "execution_count": 115,
   "id": "f01fe994-71f3-42ab-9981-9005790da977",
   "metadata": {},
   "outputs": [],
   "source": [
    "import numpy as np\n"
   ]
  },
  {
   "cell_type": "code",
   "execution_count": 116,
   "id": "eeb9d3bb-f6ef-4a28-88df-441c98927284",
   "metadata": {},
   "outputs": [],
   "source": [
    "humidity =pd.read_csv (\"C:\\\\humid_tel_hr_uttar_pradesh_sw_up_2021_2025.csv\", encoding=\"ISO-8859-1\") "
   ]
  },
  {
   "cell_type": "code",
   "execution_count": 117,
   "id": "0af548f2-a5de-475d-a7c8-535d5e3fd848",
   "metadata": {},
   "outputs": [],
   "source": [
    "rainfall = pd.read_csv(\"C:\\\\rainfall_tel_hr_uttar_pradesh_sw_up_2021_2025.csv\", encoding=\"ISO-8859-1\")"
   ]
  },
  {
   "cell_type": "code",
   "execution_count": 118,
   "id": "85de3329-7f5b-4df0-9ba1-74c335991d47",
   "metadata": {},
   "outputs": [],
   "source": [
    "temperature = pd.read_csv(\"C:\\\\temprature_tel_hr_uttar_pradesh_sw_up_2021_2025.csv\", encoding=\"ISO-8859-1\")"
   ]
  },
  {
   "cell_type": "code",
   "execution_count": 119,
   "id": "60d6aef2-b863-46fa-ab99-91625b90be3b",
   "metadata": {},
   "outputs": [],
   "source": [
    "windspeed = pd.read_csv(\"C:\\\\wind_speed_tel_hr_uttar_pradesh_sw_up_1970_2025.csv\", encoding=\"ISO-8859-1\")"
   ]
  },
  {
   "cell_type": "code",
   "execution_count": 120,
   "id": "97b521ec-1bcc-4006-b9c2-1fe3843b9211",
   "metadata": {
    "scrolled": true
   },
   "outputs": [
    {
     "name": "stdout",
     "output_type": "stream",
     "text": [
      "   SlNo   Station            Agency  State LGD Code          State  \\\n",
      "0     1  ADWA AWS  Uttar Pradesh SW               9  Uttar Pradesh   \n",
      "1     2  ADWA AWS  Uttar Pradesh SW               9  Uttar Pradesh   \n",
      "2     3  ADWA AWS  Uttar Pradesh SW               9  Uttar Pradesh   \n",
      "3     4  ADWA AWS  Uttar Pradesh SW               9  Uttar Pradesh   \n",
      "4     5  ADWA AWS  Uttar Pradesh SW               9  Uttar Pradesh   \n",
      "\n",
      "   District LGD Code  District Tehsil Block Village River Basin Tributary  \\\n",
      "0                170  MIRZAPUR      -     -       -     -     -         -   \n",
      "1                170  MIRZAPUR      -     -       -     -     -         -   \n",
      "2                170  MIRZAPUR      -     -       -     -     -         -   \n",
      "3                170  MIRZAPUR      -     -       -     -     -         -   \n",
      "4                170  MIRZAPUR      -     -       -     -     -         -   \n",
      "\n",
      "  Subtributary SubSubtributary Local River   Latitude  Longitude  \\\n",
      "0            -               -           -  24.769459  82.330348   \n",
      "1            -               -           -  24.769459  82.330348   \n",
      "2            -               -           -  24.769459  82.330348   \n",
      "3            -               -           -  24.769459  82.330348   \n",
      "4            -               -           -  24.769459  82.330348   \n",
      "\n",
      "  Data Acquisition Time  Telemetry Hourly Relative Humidity (%)  \n",
      "0      05-06-2024 00:00                                      46  \n",
      "1      05-06-2024 01:00                                      50  \n",
      "2      05-06-2024 02:00                                      50  \n",
      "3      05-06-2024 03:00                                      48  \n",
      "4      05-06-2024 04:00                                      47      SlNo   Station            Agency  State LGD Code          State  \\\n",
      "0     1  ADWA AWS  Uttar Pradesh SW               9  Uttar Pradesh   \n",
      "1     2  ADWA AWS  Uttar Pradesh SW               9  Uttar Pradesh   \n",
      "2     3  ADWA AWS  Uttar Pradesh SW               9  Uttar Pradesh   \n",
      "3     4  ADWA AWS  Uttar Pradesh SW               9  Uttar Pradesh   \n",
      "4     5  ADWA AWS  Uttar Pradesh SW               9  Uttar Pradesh   \n",
      "\n",
      "   District LGD Code  District Tehsil Block Village River Basin Tributary  \\\n",
      "0                170  MIRZAPUR      -     -       -     -     -         -   \n",
      "1                170  MIRZAPUR      -     -       -     -     -         -   \n",
      "2                170  MIRZAPUR      -     -       -     -     -         -   \n",
      "3                170  MIRZAPUR      -     -       -     -     -         -   \n",
      "4                170  MIRZAPUR      -     -       -     -     -         -   \n",
      "\n",
      "  Subtributary SubSubtributary Local River   Latitude  Longitude  \\\n",
      "0            -               -           -  24.769459  82.330348   \n",
      "1            -               -           -  24.769459  82.330348   \n",
      "2            -               -           -  24.769459  82.330348   \n",
      "3            -               -           -  24.769459  82.330348   \n",
      "4            -               -           -  24.769459  82.330348   \n",
      "\n",
      "  Data Acquisition Time  Telemetry Hourly Rainfall (mm)  \n",
      "0      12-01-2023 21:00                            43.0  \n",
      "1      12-01-2023 22:00                            43.0  \n",
      "2      12-01-2023 23:00                            43.0  \n",
      "3      13-01-2023 00:00                            43.0  \n",
      "4      13-01-2023 01:00                            43.0      SlNo    Station            Agency  State LGD Code          State  \\\n",
      "0     1  Jirgo AWS  Uttar Pradesh SW               9  Uttar Pradesh   \n",
      "1     2  Jirgo AWS  Uttar Pradesh SW               9  Uttar Pradesh   \n",
      "2     3  Jirgo AWS  Uttar Pradesh SW               9  Uttar Pradesh   \n",
      "3     4  Jirgo AWS  Uttar Pradesh SW               9  Uttar Pradesh   \n",
      "4     5  Jirgo AWS  Uttar Pradesh SW               9  Uttar Pradesh   \n",
      "\n",
      "   District LGD Code  District Tehsil Block Village River Basin Tributary  \\\n",
      "0                170  MIRZAPUR      -     -       -     -     -         -   \n",
      "1                170  MIRZAPUR      -     -       -     -     -         -   \n",
      "2                170  MIRZAPUR      -     -       -     -     -         -   \n",
      "3                170  MIRZAPUR      -     -       -     -     -         -   \n",
      "4                170  MIRZAPUR      -     -       -     -     -         -   \n",
      "\n",
      "  Subtributary SubSubtributary Local River   Latitude  Longitude  \\\n",
      "0            -               -           -  25.051029  82.938143   \n",
      "1            -               -           -  25.051029  82.938143   \n",
      "2            -               -           -  25.051029  82.938143   \n",
      "3            -               -           -  25.051029  82.938143   \n",
      "4            -               -           -  25.051029  82.938143   \n",
      "\n",
      "  Data Acquisition Time  Air Temperature Telemetry Hourly (ÂºC)  \n",
      "0      28-09-2023 16:00                                    27.0  \n",
      "1      28-09-2023 17:00                                    26.0  \n",
      "2      28-09-2023 19:00                                    25.0  \n",
      "3      28-09-2023 21:00                                    24.0  \n",
      "4      29-09-2023 23:00                                    24.0      SlNo   Station            Agency  State LGD Code          State  \\\n",
      "0     1  ADWA AWS  Uttar Pradesh SW               9  Uttar Pradesh   \n",
      "1     2  ADWA AWS  Uttar Pradesh SW               9  Uttar Pradesh   \n",
      "2     3  ADWA AWS  Uttar Pradesh SW               9  Uttar Pradesh   \n",
      "3     4  ADWA AWS  Uttar Pradesh SW               9  Uttar Pradesh   \n",
      "4     5  ADWA AWS  Uttar Pradesh SW               9  Uttar Pradesh   \n",
      "\n",
      "   District LGD Code  District Tehsil Block Village River Basin Tributary  \\\n",
      "0                170  MIRZAPUR      -     -       -     -     -         -   \n",
      "1                170  MIRZAPUR      -     -       -     -     -         -   \n",
      "2                170  MIRZAPUR      -     -       -     -     -         -   \n",
      "3                170  MIRZAPUR      -     -       -     -     -         -   \n",
      "4                170  MIRZAPUR      -     -       -     -     -         -   \n",
      "\n",
      "  Subtributary SubSubtributary Local River   Latitude  Longitude  \\\n",
      "0            -               -           -  24.769459  82.330348   \n",
      "1            -               -           -  24.769459  82.330348   \n",
      "2            -               -           -  24.769459  82.330348   \n",
      "3            -               -           -  24.769459  82.330348   \n",
      "4            -               -           -  24.769459  82.330348   \n",
      "\n",
      "  Data Acquisition Time  Telemetry Hourly Wind Speed (Km/Hr)  \n",
      "0      12-01-2023 21:00                                 99.0  \n",
      "1      12-01-2023 22:00                                 65.0  \n",
      "2      12-01-2023 23:00                                  0.0  \n",
      "3      13-01-2023 00:00                                141.0  \n",
      "4      13-01-2023 01:00                                 60.0  \n"
     ]
    }
   ],
   "source": [
    "print(humidity.head(), rainfall.head(), temperature.head(), windspeed.head())"
   ]
  },
  {
   "cell_type": "code",
   "execution_count": 121,
   "id": "7521d977-bd16-4f88-8ea8-c3f681dc3ead",
   "metadata": {},
   "outputs": [
    {
     "name": "stdout",
     "output_type": "stream",
     "text": [
      "C:\\humid_tel_hr_uttar_pradesh_sw_up_2021_2025.csv: True\n",
      "C:\\rainfall_tel_hr_uttar_pradesh_sw_up_2021_2025.csv: True\n",
      "C:\\temprature_tel_hr_uttar_pradesh_sw_up_2021_2025.csv: True\n",
      "C:\\wind_speed_tel_hr_uttar_pradesh_sw_up_1970_2025.csv: True\n"
     ]
    }
   ],
   "source": [
    "import os\n",
    "files = [\n",
    "    \"C:\\\\humid_tel_hr_uttar_pradesh_sw_up_2021_2025.csv\",\n",
    "    \"C:\\\\rainfall_tel_hr_uttar_pradesh_sw_up_2021_2025.csv\",\n",
    "    \"C:\\\\temprature_tel_hr_uttar_pradesh_sw_up_2021_2025.csv\",\n",
    "    \"C:\\\\wind_speed_tel_hr_uttar_pradesh_sw_up_1970_2025.csv\"\n",
    "]\n",
    "\n",
    "for file in files:\n",
    "    print(f\"{file}: {os.path.exists(file)}\")"
   ]
  },
  {
   "cell_type": "code",
   "execution_count": 122,
   "id": "013cba78-d5dd-49f3-acd7-6a9c096aa0da",
   "metadata": {},
   "outputs": [
    {
     "name": "stdout",
     "output_type": "stream",
     "text": [
      "0    05-06-2024 00:00\n",
      "1    05-06-2024 01:00\n",
      "2    05-06-2024 02:00\n",
      "3    05-06-2024 03:00\n",
      "4    05-06-2024 04:00\n",
      "Name: Data Acquisition Time, dtype: object\n",
      "0    28-09-2023 16:00\n",
      "1    28-09-2023 17:00\n",
      "2    28-09-2023 19:00\n",
      "3    28-09-2023 21:00\n",
      "4    29-09-2023 23:00\n",
      "Name: Data Acquisition Time, dtype: object\n",
      "0    12-01-2023 21:00\n",
      "1    12-01-2023 22:00\n",
      "2    12-01-2023 23:00\n",
      "3    13-01-2023 00:00\n",
      "4    13-01-2023 01:00\n",
      "Name: Data Acquisition Time, dtype: object\n",
      "0    12-01-2023 21:00\n",
      "1    12-01-2023 22:00\n",
      "2    12-01-2023 23:00\n",
      "3    13-01-2023 00:00\n",
      "4    13-01-2023 01:00\n",
      "Name: Data Acquisition Time, dtype: object\n"
     ]
    }
   ],
   "source": [
    "print(humidity['Data Acquisition Time'].head())\n",
    "print(temperature['Data Acquisition Time'].head())\n",
    "print(windspeed['Data Acquisition Time'].head())\n",
    "print(rainfall['Data Acquisition Time'].head())"
   ]
  },
  {
   "cell_type": "code",
   "execution_count": 123,
   "id": "00fe88aa-71b7-4761-b9bb-efa8aefd6595",
   "metadata": {},
   "outputs": [
    {
     "name": "stdout",
     "output_type": "stream",
     "text": [
      "   SlNo   Station            Agency  State LGD Code          State  \\\n",
      "0     1  ADWA AWS  Uttar Pradesh SW               9  Uttar Pradesh   \n",
      "1     2  ADWA AWS  Uttar Pradesh SW               9  Uttar Pradesh   \n",
      "2     3  ADWA AWS  Uttar Pradesh SW               9  Uttar Pradesh   \n",
      "3     4  ADWA AWS  Uttar Pradesh SW               9  Uttar Pradesh   \n",
      "4     5  ADWA AWS  Uttar Pradesh SW               9  Uttar Pradesh   \n",
      "\n",
      "   District LGD Code  District Tehsil Block Village River Basin Tributary  \\\n",
      "0                170  MIRZAPUR      -     -       -     -     -         -   \n",
      "1                170  MIRZAPUR      -     -       -     -     -         -   \n",
      "2                170  MIRZAPUR      -     -       -     -     -         -   \n",
      "3                170  MIRZAPUR      -     -       -     -     -         -   \n",
      "4                170  MIRZAPUR      -     -       -     -     -         -   \n",
      "\n",
      "  Subtributary SubSubtributary Local River   Latitude  Longitude  \\\n",
      "0            -               -           -  24.769459  82.330348   \n",
      "1            -               -           -  24.769459  82.330348   \n",
      "2            -               -           -  24.769459  82.330348   \n",
      "3            -               -           -  24.769459  82.330348   \n",
      "4            -               -           -  24.769459  82.330348   \n",
      "\n",
      "  Data Acquisition Time  Telemetry Hourly Relative Humidity (%)  \n",
      "0      05-06-2024 00:00                                      46  \n",
      "1      05-06-2024 01:00                                      50  \n",
      "2      05-06-2024 02:00                                      50  \n",
      "3      05-06-2024 03:00                                      48  \n",
      "4      05-06-2024 04:00                                      47  \n",
      "   SlNo    Station            Agency  State LGD Code          State  \\\n",
      "0     1  Jirgo AWS  Uttar Pradesh SW               9  Uttar Pradesh   \n",
      "1     2  Jirgo AWS  Uttar Pradesh SW               9  Uttar Pradesh   \n",
      "2     3  Jirgo AWS  Uttar Pradesh SW               9  Uttar Pradesh   \n",
      "3     4  Jirgo AWS  Uttar Pradesh SW               9  Uttar Pradesh   \n",
      "4     5  Jirgo AWS  Uttar Pradesh SW               9  Uttar Pradesh   \n",
      "\n",
      "   District LGD Code  District Tehsil Block Village River Basin Tributary  \\\n",
      "0                170  MIRZAPUR      -     -       -     -     -         -   \n",
      "1                170  MIRZAPUR      -     -       -     -     -         -   \n",
      "2                170  MIRZAPUR      -     -       -     -     -         -   \n",
      "3                170  MIRZAPUR      -     -       -     -     -         -   \n",
      "4                170  MIRZAPUR      -     -       -     -     -         -   \n",
      "\n",
      "  Subtributary SubSubtributary Local River   Latitude  Longitude  \\\n",
      "0            -               -           -  25.051029  82.938143   \n",
      "1            -               -           -  25.051029  82.938143   \n",
      "2            -               -           -  25.051029  82.938143   \n",
      "3            -               -           -  25.051029  82.938143   \n",
      "4            -               -           -  25.051029  82.938143   \n",
      "\n",
      "  Data Acquisition Time  Air Temperature Telemetry Hourly (ÂºC)  \n",
      "0      28-09-2023 16:00                                    27.0  \n",
      "1      28-09-2023 17:00                                    26.0  \n",
      "2      28-09-2023 19:00                                    25.0  \n",
      "3      28-09-2023 21:00                                    24.0  \n",
      "4      29-09-2023 23:00                                    24.0  \n",
      "   SlNo   Station            Agency  State LGD Code          State  \\\n",
      "0     1  ADWA AWS  Uttar Pradesh SW               9  Uttar Pradesh   \n",
      "1     2  ADWA AWS  Uttar Pradesh SW               9  Uttar Pradesh   \n",
      "2     3  ADWA AWS  Uttar Pradesh SW               9  Uttar Pradesh   \n",
      "3     4  ADWA AWS  Uttar Pradesh SW               9  Uttar Pradesh   \n",
      "4     5  ADWA AWS  Uttar Pradesh SW               9  Uttar Pradesh   \n",
      "\n",
      "   District LGD Code  District Tehsil Block Village River Basin Tributary  \\\n",
      "0                170  MIRZAPUR      -     -       -     -     -         -   \n",
      "1                170  MIRZAPUR      -     -       -     -     -         -   \n",
      "2                170  MIRZAPUR      -     -       -     -     -         -   \n",
      "3                170  MIRZAPUR      -     -       -     -     -         -   \n",
      "4                170  MIRZAPUR      -     -       -     -     -         -   \n",
      "\n",
      "  Subtributary SubSubtributary Local River   Latitude  Longitude  \\\n",
      "0            -               -           -  24.769459  82.330348   \n",
      "1            -               -           -  24.769459  82.330348   \n",
      "2            -               -           -  24.769459  82.330348   \n",
      "3            -               -           -  24.769459  82.330348   \n",
      "4            -               -           -  24.769459  82.330348   \n",
      "\n",
      "  Data Acquisition Time  Telemetry Hourly Wind Speed (Km/Hr)  \n",
      "0      12-01-2023 21:00                                 99.0  \n",
      "1      12-01-2023 22:00                                 65.0  \n",
      "2      12-01-2023 23:00                                  0.0  \n",
      "3      13-01-2023 00:00                                141.0  \n",
      "4      13-01-2023 01:00                                 60.0  \n",
      "   SlNo   Station            Agency  State LGD Code          State  \\\n",
      "0     1  ADWA AWS  Uttar Pradesh SW               9  Uttar Pradesh   \n",
      "1     2  ADWA AWS  Uttar Pradesh SW               9  Uttar Pradesh   \n",
      "2     3  ADWA AWS  Uttar Pradesh SW               9  Uttar Pradesh   \n",
      "3     4  ADWA AWS  Uttar Pradesh SW               9  Uttar Pradesh   \n",
      "4     5  ADWA AWS  Uttar Pradesh SW               9  Uttar Pradesh   \n",
      "\n",
      "   District LGD Code  District Tehsil Block Village River Basin Tributary  \\\n",
      "0                170  MIRZAPUR      -     -       -     -     -         -   \n",
      "1                170  MIRZAPUR      -     -       -     -     -         -   \n",
      "2                170  MIRZAPUR      -     -       -     -     -         -   \n",
      "3                170  MIRZAPUR      -     -       -     -     -         -   \n",
      "4                170  MIRZAPUR      -     -       -     -     -         -   \n",
      "\n",
      "  Subtributary SubSubtributary Local River   Latitude  Longitude  \\\n",
      "0            -               -           -  24.769459  82.330348   \n",
      "1            -               -           -  24.769459  82.330348   \n",
      "2            -               -           -  24.769459  82.330348   \n",
      "3            -               -           -  24.769459  82.330348   \n",
      "4            -               -           -  24.769459  82.330348   \n",
      "\n",
      "  Data Acquisition Time  Telemetry Hourly Rainfall (mm)  \n",
      "0      12-01-2023 21:00                            43.0  \n",
      "1      12-01-2023 22:00                            43.0  \n",
      "2      12-01-2023 23:00                            43.0  \n",
      "3      13-01-2023 00:00                            43.0  \n",
      "4      13-01-2023 01:00                            43.0  \n"
     ]
    }
   ],
   "source": [
    "print(humidity.head())  \n",
    "print(temperature.head())  \n",
    "print(windspeed.head())  \n",
    "print(rainfall.head())"
   ]
  },
  {
   "cell_type": "code",
   "execution_count": 124,
   "id": "fbe34f6c-cac8-4dab-97f3-ad0f51bd01a9",
   "metadata": {},
   "outputs": [
    {
     "name": "stdout",
     "output_type": "stream",
     "text": [
      "0    05-06-2024 00:00\n",
      "1    05-06-2024 01:00\n",
      "2    05-06-2024 02:00\n",
      "3    05-06-2024 03:00\n",
      "4    05-06-2024 04:00\n",
      "Name: Data Acquisition Time, dtype: object\n",
      "0    28-09-2023 16:00\n",
      "1    28-09-2023 17:00\n",
      "2    28-09-2023 19:00\n",
      "3    28-09-2023 21:00\n",
      "4    29-09-2023 23:00\n",
      "Name: Data Acquisition Time, dtype: object\n",
      "0    12-01-2023 21:00\n",
      "1    12-01-2023 22:00\n",
      "2    12-01-2023 23:00\n",
      "3    13-01-2023 00:00\n",
      "4    13-01-2023 01:00\n",
      "Name: Data Acquisition Time, dtype: object\n",
      "0    12-01-2023 21:00\n",
      "1    12-01-2023 22:00\n",
      "2    12-01-2023 23:00\n",
      "3    13-01-2023 00:00\n",
      "4    13-01-2023 01:00\n",
      "Name: Data Acquisition Time, dtype: object\n"
     ]
    }
   ],
   "source": [
    "print(humidity['Data Acquisition Time'].head())  \n",
    "print(temperature['Data Acquisition Time'].head())  \n",
    "print(windspeed['Data Acquisition Time'].head())  \n",
    "print(rainfall['Data Acquisition Time'].head())"
   ]
  },
  {
   "cell_type": "code",
   "execution_count": 125,
   "id": "8ed9f26c-0d96-49f7-8dbe-0f7255700cf8",
   "metadata": {},
   "outputs": [],
   "source": [
    "humidity['Data Acquisition Time'] = pd.to_datetime(humidity['Data Acquisition Time'], format='%d-%m-%Y %H:%M')\n",
    "temperature['Data Acquisition Time'] = pd.to_datetime(temperature['Data Acquisition Time'], format='%d-%m-%Y %H:%M')\n",
    "windspeed['Data Acquisition Time'] = pd.to_datetime(windspeed['Data Acquisition Time'], format='%d-%m-%Y %H:%M')\n",
    "rainfall['Data Acquisition Time'] = pd.to_datetime(rainfall['Data Acquisition Time'], format='%d-%m-%Y %H:%M')"
   ]
  },
  {
   "cell_type": "code",
   "execution_count": 126,
   "id": "87dddf1f-070e-4378-a946-967eb15a1729",
   "metadata": {},
   "outputs": [],
   "source": [
    "humidity['Data Acquisition Time'] = pd.to_datetime(humidity['Data Acquisition Time'])\n",
    "temperature['Data Acquisition Time'] = pd.to_datetime(temperature['Data Acquisition Time'])\n",
    "windspeed['Data Acquisition Time'] = pd.to_datetime(windspeed['Data Acquisition Time'])\n",
    "rainfall['Data Acquisition Time'] = pd.to_datetime(rainfall['Data Acquisition Time'])"
   ]
  },
  {
   "cell_type": "code",
   "execution_count": 127,
   "id": "f427a35d-989f-4f93-9155-7fbecbd818c0",
   "metadata": {},
   "outputs": [],
   "source": [
    "windspeed.rename(columns={\"Incorrect Column Name Here\": \"Telemetry Hourly Wind Speed (km/hr)\"}, inplace=True)\n",
    "humidity.rename(columns={\"Incorrect Column Name Here\": \"Humidity\"}, inplace=True)\n",
    "temperature.rename(columns={\"Incorrect Column Name Here\": \"Temperature\"}, inplace=True)\n",
    "rainfall.rename(columns={\"Incorrect Column Name Here\": \"Rainfall\"}, inplace=True)"
   ]
  },
  {
   "cell_type": "code",
   "execution_count": 128,
   "id": "546a7fa3-6b6c-456c-a0fe-59a4b4be05d3",
   "metadata": {},
   "outputs": [
    {
     "name": "stdout",
     "output_type": "stream",
     "text": [
      "<class 'pandas.core.frame.DataFrame'>\n",
      "RangeIndex: 159753 entries, 0 to 159752\n",
      "Data columns (total 20 columns):\n",
      " #   Column                               Non-Null Count   Dtype         \n",
      "---  ------                               --------------   -----         \n",
      " 0   SlNo                                 159753 non-null  int64         \n",
      " 1   Station                              159753 non-null  object        \n",
      " 2   Agency                               159753 non-null  object        \n",
      " 3   State LGD Code                       159753 non-null  int64         \n",
      " 4   State                                159753 non-null  object        \n",
      " 5   District LGD Code                    159753 non-null  int64         \n",
      " 6   District                             159753 non-null  object        \n",
      " 7   Tehsil                               159753 non-null  object        \n",
      " 8   Block                                159753 non-null  object        \n",
      " 9   Village                              159753 non-null  object        \n",
      " 10  River                                159753 non-null  object        \n",
      " 11  Basin                                159753 non-null  object        \n",
      " 12  Tributary                            159753 non-null  object        \n",
      " 13  Subtributary                         159753 non-null  object        \n",
      " 14  SubSubtributary                      159753 non-null  object        \n",
      " 15  Local River                          159753 non-null  object        \n",
      " 16  Latitude                             18038 non-null   float64       \n",
      " 17  Longitude                            18038 non-null   float64       \n",
      " 18  Data Acquisition Time                159753 non-null  datetime64[ns]\n",
      " 19  Telemetry Hourly Wind Speed (Km/Hr)  159753 non-null  float64       \n",
      "dtypes: datetime64[ns](1), float64(3), int64(3), object(13)\n",
      "memory usage: 24.4+ MB\n",
      "None\n",
      "<class 'pandas.core.frame.DataFrame'>\n",
      "RangeIndex: 156979 entries, 0 to 156978\n",
      "Data columns (total 20 columns):\n",
      " #   Column                                  Non-Null Count   Dtype         \n",
      "---  ------                                  --------------   -----         \n",
      " 0   SlNo                                    156979 non-null  int64         \n",
      " 1   Station                                 156979 non-null  object        \n",
      " 2   Agency                                  156979 non-null  object        \n",
      " 3   State LGD Code                          156979 non-null  int64         \n",
      " 4   State                                   156979 non-null  object        \n",
      " 5   District LGD Code                       156979 non-null  int64         \n",
      " 6   District                                156979 non-null  object        \n",
      " 7   Tehsil                                  156979 non-null  object        \n",
      " 8   Block                                   156979 non-null  object        \n",
      " 9   Village                                 156979 non-null  object        \n",
      " 10  River                                   156979 non-null  object        \n",
      " 11  Basin                                   156979 non-null  object        \n",
      " 12  Tributary                               156979 non-null  object        \n",
      " 13  Subtributary                            156979 non-null  object        \n",
      " 14  SubSubtributary                         156979 non-null  object        \n",
      " 15  Local River                             156979 non-null  object        \n",
      " 16  Latitude                                15203 non-null   float64       \n",
      " 17  Longitude                               15203 non-null   float64       \n",
      " 18  Data Acquisition Time                   156979 non-null  datetime64[ns]\n",
      " 19  Telemetry Hourly Relative Humidity (%)  156979 non-null  int64         \n",
      "dtypes: datetime64[ns](1), float64(2), int64(4), object(13)\n",
      "memory usage: 24.0+ MB\n",
      "None\n",
      "<class 'pandas.core.frame.DataFrame'>\n",
      "RangeIndex: 150593 entries, 0 to 150592\n",
      "Data columns (total 20 columns):\n",
      " #   Column                                  Non-Null Count   Dtype         \n",
      "---  ------                                  --------------   -----         \n",
      " 0   SlNo                                    150593 non-null  int64         \n",
      " 1   Station                                 150593 non-null  object        \n",
      " 2   Agency                                  150593 non-null  object        \n",
      " 3   State LGD Code                          150593 non-null  int64         \n",
      " 4   State                                   150593 non-null  object        \n",
      " 5   District LGD Code                       150593 non-null  int64         \n",
      " 6   District                                150593 non-null  object        \n",
      " 7   Tehsil                                  150593 non-null  object        \n",
      " 8   Block                                   150593 non-null  object        \n",
      " 9   Village                                 150593 non-null  object        \n",
      " 10  River                                   150593 non-null  object        \n",
      " 11  Basin                                   150593 non-null  object        \n",
      " 12  Tributary                               150593 non-null  object        \n",
      " 13  Subtributary                            150593 non-null  object        \n",
      " 14  SubSubtributary                         150593 non-null  object        \n",
      " 15  Local River                             150593 non-null  object        \n",
      " 16  Latitude                                8817 non-null    float64       \n",
      " 17  Longitude                               8817 non-null    float64       \n",
      " 18  Data Acquisition Time                   150593 non-null  datetime64[ns]\n",
      " 19  Air Temperature Telemetry Hourly (ÂºC)  150593 non-null  float64       \n",
      "dtypes: datetime64[ns](1), float64(3), int64(3), object(13)\n",
      "memory usage: 23.0+ MB\n",
      "None\n",
      "<class 'pandas.core.frame.DataFrame'>\n",
      "RangeIndex: 44138 entries, 0 to 44137\n",
      "Data columns (total 20 columns):\n",
      " #   Column                          Non-Null Count  Dtype         \n",
      "---  ------                          --------------  -----         \n",
      " 0   SlNo                            44138 non-null  int64         \n",
      " 1   Station                         44138 non-null  object        \n",
      " 2   Agency                          44138 non-null  object        \n",
      " 3   State LGD Code                  44138 non-null  int64         \n",
      " 4   State                           44138 non-null  object        \n",
      " 5   District LGD Code               44138 non-null  int64         \n",
      " 6   District                        44138 non-null  object        \n",
      " 7   Tehsil                          44138 non-null  object        \n",
      " 8   Block                           44138 non-null  object        \n",
      " 9   Village                         44138 non-null  object        \n",
      " 10  River                           44138 non-null  object        \n",
      " 11  Basin                           44138 non-null  object        \n",
      " 12  Tributary                       44138 non-null  object        \n",
      " 13  Subtributary                    44138 non-null  object        \n",
      " 14  SubSubtributary                 44138 non-null  object        \n",
      " 15  Local River                     44138 non-null  object        \n",
      " 16  Latitude                        44138 non-null  float64       \n",
      " 17  Longitude                       44138 non-null  float64       \n",
      " 18  Data Acquisition Time           44138 non-null  datetime64[ns]\n",
      " 19  Telemetry Hourly Rainfall (mm)  44138 non-null  float64       \n",
      "dtypes: datetime64[ns](1), float64(3), int64(3), object(13)\n",
      "memory usage: 6.7+ MB\n",
      "None\n"
     ]
    }
   ],
   "source": [
    "print(windspeed.info())\n",
    "print(humidity.info())\n",
    "print(temperature.info())\n",
    "print(rainfall.info())"
   ]
  },
  {
   "cell_type": "code",
   "execution_count": 129,
   "id": "f329fea3-0b1f-4225-a52e-d24c88a44fdf",
   "metadata": {},
   "outputs": [
    {
     "name": "stdout",
     "output_type": "stream",
     "text": [
      "['SlNo', 'Station', 'Agency', 'State LGD Code', 'State', 'District LGD Code', 'District', 'Tehsil', 'Block', 'Village', 'River', 'Basin', 'Tributary', 'Subtributary', 'SubSubtributary', 'Local River', 'Latitude', 'Longitude', 'Data Acquisition Time', 'Telemetry Hourly Wind Speed (Km/Hr)']\n"
     ]
    }
   ],
   "source": [
    "print(list(windspeed.columns))"
   ]
  },
  {
   "cell_type": "code",
   "execution_count": 131,
   "id": "92c0c73b-ef4e-4523-9299-a5df82ba690e",
   "metadata": {},
   "outputs": [
    {
     "name": "stdout",
     "output_type": "stream",
     "text": [
      "[9.90e+01 6.50e+01 0.00e+00 1.41e+02 6.00e+01 1.30e+02 9.20e+01 1.12e+02\n",
      " 1.90e+01 3.20e+01 5.90e+01 7.80e+01 6.10e+01 3.70e+01 8.70e+01 7.40e+01\n",
      " 1.14e+02 1.24e+02 1.10e+02 9.80e+01 1.70e+01 9.60e+01 1.47e+02 7.20e+01\n",
      " 6.20e+01 9.40e+01 1.50e+01 1.20e+01 4.30e+01 6.00e+00 1.60e+01 5.00e+00\n",
      " 1.40e+01 5.00e+01 2.20e+01 5.50e+01 6.30e+01 1.21e+02 1.80e+01 1.30e+01\n",
      " 1.57e+02 7.10e+01 5.40e+01 5.70e+01 1.07e+02 2.12e+02 1.85e+02 1.06e+02\n",
      " 1.97e+02 2.01e+02 4.40e+01 3.00e+00 1.13e+02 1.19e+02 7.70e+01 7.90e+01\n",
      " 5.80e+01 3.90e+01 4.70e+01 5.60e+01 7.00e+00 3.60e+01 1.00e+02 6.90e+01\n",
      " 1.16e+02 1.79e+02 1.80e+02 1.32e+02 1.31e+02 8.60e+01 3.50e+01 8.00e+00\n",
      " 1.50e+02 9.50e+01 1.15e+02 9.00e+01 1.18e+02 1.37e+02 2.70e+01 2.50e+01\n",
      " 1.60e+02 1.38e+02 9.10e+01 1.17e+02 1.29e+02 1.05e+02 4.10e+01 8.90e+01\n",
      " 4.90e+01 4.50e+01 6.70e+01 8.40e+01 1.46e+02 2.29e+02 8.10e+01 1.27e+02\n",
      " 2.80e+01 1.58e+02 9.70e+01 1.26e+02 8.50e+01 1.23e+02 1.34e+02 1.11e+02\n",
      " 2.09e+02 8.20e+01 1.99e+02 1.39e+02 1.02e+02 1.42e+02 8.80e+01 1.84e+02\n",
      " 1.93e+02 2.24e+02 1.33e+02 1.20e+02 1.28e+02 1.53e+02 9.30e+01 1.01e+02\n",
      " 1.78e+02 1.54e+02 8.30e+01 6.60e+01 2.10e+01 1.65e+02 4.20e+01 1.03e+02\n",
      " 1.08e+02 1.63e+02 1.64e+02 7.30e+01 1.66e+02 2.00e+01 5.20e+01 2.90e+01\n",
      " 7.50e+01 1.62e+02 7.00e+01 1.09e+02 1.04e+02 1.43e+02 3.80e+01 7.60e+01\n",
      " 5.30e+01 2.60e+01 9.00e+00 5.10e+01 6.80e+01 2.54e+02 8.00e+01 1.48e+02\n",
      " 1.45e+02 1.35e+02 1.52e+02 2.55e+02 1.73e+02 1.67e+02 2.40e+01 1.25e+02\n",
      " 1.71e+02 1.36e+02 1.49e+02 1.98e+02 1.81e+02 2.00e+02 1.94e+02 2.07e+02\n",
      " 2.11e+02 2.56e+02 1.61e+02 1.10e+01 4.60e+01 1.00e+01 1.44e+02 1.92e+02\n",
      " 2.06e+02 2.20e+02 2.53e+02 4.80e+01 1.74e+02 3.40e+01 1.40e+02 1.91e+02\n",
      " 4.00e+00 1.86e+02 6.40e+01 2.30e+01 1.59e+02 2.48e+02 2.22e+02 3.10e+01\n",
      " 3.00e+01 2.31e+02 2.05e+02 2.58e+02 1.56e+02 2.25e+02 2.13e+02 1.22e+02\n",
      " 1.70e+02 2.44e+02 3.30e+01 4.00e+01 1.68e+02 2.41e+02 1.51e+02 2.38e+02\n",
      " 2.60e+02 2.50e+02 2.45e+02 2.19e+02 1.77e+02 2.32e+02 2.57e+02 2.10e+02\n",
      " 1.87e+02 2.23e+02 1.89e+02 2.52e+02 2.34e+02 2.59e+02 1.69e+02 1.75e+02\n",
      " 2.36e+02 1.88e+02 1.95e+02 2.02e+02 2.04e+02 2.03e+02 2.18e+02 1.76e+02\n",
      " 2.08e+02 1.82e+02 2.47e+02 1.55e+02 2.15e+02 2.33e+02 2.42e+02 2.39e+02\n",
      " 2.21e+02 2.17e+02 1.90e+02 2.26e+02 2.35e+02 2.00e+00 1.00e+00 2.43e+02\n",
      " 1.72e+02 2.27e+02 2.49e+02 2.40e+02 2.46e+02 1.83e+02 1.96e+02 2.28e+02\n",
      " 2.16e+02 2.30e+02 2.51e+02 2.37e+02 2.14e+02 4.00e-01 2.00e-01 3.00e-01\n",
      " 5.00e-01 1.00e-01 8.00e-01 7.00e-01 1.30e+00 2.30e+00 3.70e+00 1.40e+00\n",
      " 3.90e+00 2.90e+00 1.90e+00 1.80e+00 6.00e-01 2.20e+00 2.40e+00 1.50e+00\n",
      " 2.70e+00 1.60e+00 1.20e+00 9.00e-01 1.10e+00 2.80e+00 2.10e+00 1.70e+00\n",
      " 3.30e+00 3.80e+00 2.50e+00 3.20e+00 2.60e+00 3.10e+00 3.50e+00 3.40e+00\n",
      " 4.70e+00 7.50e+00 3.60e+00 5.20e+00 4.60e+00 5.40e+00 4.30e+00 4.10e+00\n",
      " 5.50e+00 5.30e+00 4.90e+00 6.10e+00 4.20e+00 4.50e+00 5.10e+00 4.80e+00\n",
      " 4.40e+00 5.60e+00 6.50e+00 7.20e+00 5.70e+00 5.80e+00 6.70e+00 6.60e+00\n",
      " 6.20e+00 6.80e+00 6.30e+00 6.90e+00 5.90e+00 7.60e+00 7.10e+00 6.40e+00\n",
      " 8.70e+00 7.90e+00 8.30e+00 8.10e+00 8.90e+00 7.40e+00 9.10e+00 1.06e+01\n",
      " 8.20e+00 8.60e+00 7.70e+00 7.30e+00 7.80e+00 1.03e+01 9.20e+00 8.40e+00\n",
      " 8.50e+00 9.40e+00 1.07e+01 1.12e+01 9.60e+00 1.18e+01 9.90e+00 9.80e+00\n",
      " 9.50e+00 1.44e+01 9.30e+00]\n"
     ]
    }
   ],
   "source": [
    "print(windspeed['Telemetry Hourly Wind Speed (Km/Hr)'].unique())  # Check unique values"
   ]
  },
  {
   "cell_type": "code",
   "execution_count": 133,
   "id": "52e77db5-c24a-4405-ae1f-75f30dbaeee5",
   "metadata": {},
   "outputs": [],
   "source": [
    "windspeed['Telemetry Hourly Wind Speed (Km/Hr)'] = windspeed['Telemetry Hourly Wind Speed (Km/Hr)'].astype(int)"
   ]
  },
  {
   "cell_type": "code",
   "execution_count": 134,
   "id": "24754e4a-7ed3-44a4-b87f-189683380044",
   "metadata": {},
   "outputs": [
    {
     "name": "stdout",
     "output_type": "stream",
     "text": [
      "   SlNo   Station            Agency  State LGD Code          State  \\\n",
      "0     1  ADWA AWS  Uttar Pradesh SW               9  Uttar Pradesh   \n",
      "1     2  ADWA AWS  Uttar Pradesh SW               9  Uttar Pradesh   \n",
      "2     3  ADWA AWS  Uttar Pradesh SW               9  Uttar Pradesh   \n",
      "3     4  ADWA AWS  Uttar Pradesh SW               9  Uttar Pradesh   \n",
      "4     5  ADWA AWS  Uttar Pradesh SW               9  Uttar Pradesh   \n",
      "\n",
      "   District LGD Code  District Tehsil Block Village River Basin Tributary  \\\n",
      "0                170  MIRZAPUR      -     -       -     -     -         -   \n",
      "1                170  MIRZAPUR      -     -       -     -     -         -   \n",
      "2                170  MIRZAPUR      -     -       -     -     -         -   \n",
      "3                170  MIRZAPUR      -     -       -     -     -         -   \n",
      "4                170  MIRZAPUR      -     -       -     -     -         -   \n",
      "\n",
      "  Subtributary SubSubtributary Local River  Latitude  Longitude  \\\n",
      "0            -               -           -     24.77      82.33   \n",
      "1            -               -           -     24.77      82.33   \n",
      "2            -               -           -     24.77      82.33   \n",
      "3            -               -           -     24.77      82.33   \n",
      "4            -               -           -     24.77      82.33   \n",
      "\n",
      "  Data Acquisition Time  Telemetry Hourly Wind Speed (Km/Hr)  \n",
      "0   2023-01-12 21:00:00                                   99  \n",
      "1   2023-01-12 22:00:00                                   65  \n",
      "2   2023-01-12 23:00:00                                    0  \n",
      "3   2023-01-13 00:00:00                                  141  \n",
      "4   2023-01-13 01:00:00                                   60  \n"
     ]
    }
   ],
   "source": [
    "pd.set_option('display.float_format', '{:.2f}'.format)  # Two decimal places\n",
    "print(windspeed.head())"
   ]
  },
  {
   "cell_type": "code",
   "execution_count": 135,
   "id": "81820eef-a898-4094-88bd-fb2ec0281859",
   "metadata": {},
   "outputs": [],
   "source": [
    "humidity.rename(columns=lambda x: x + \"_humidity\" if x != \"Data Acquisition Time\" else x, inplace=True)\n",
    "temperature.rename(columns=lambda x: x + \"_temperature\" if x != \"Data Acquisition Time\" else x, inplace=True)\n",
    "windspeed.rename(columns=lambda x: x + \"_windspeed\" if x != \"Data Acquisition Time\" else x, inplace=True)\n",
    "rainfall.rename(columns=lambda x: x + \"_rainfall\" if x != \"Data Acquisition Time\" else x, inplace=True)"
   ]
  },
  {
   "cell_type": "code",
   "execution_count": null,
   "id": "63707932-7250-4efc-a129-273962fddb88",
   "metadata": {},
   "outputs": [],
   "source": [
    "merged_df = humidity.merge(temperature, on='Data Acquisition Time', how='outer')\n",
    "merged_df = merged_df.merge(windspeed, on='Data Acquisition Time', how='outer')\n",
    "merged_df = merged_df.merge(rainfall, on='Data Acquisition Time', how='outer')\n",
    "\n",
    "# Save merged dataset\n",
    "merged_df.to_csv('final_weather_data.csv', index=False)\n",
    "\n",
    "print(\" Merged dataset saved successfully!\")"
   ]
  },
  {
   "cell_type": "code",
   "execution_count": null,
   "id": "14886490-74e4-490d-906b-ab9a2287268d",
   "metadata": {},
   "outputs": [],
   "source": [
    "df = pd.read_csv(\"C:\\\\crop_yield.csv\")\n"
   ]
  },
  {
   "cell_type": "code",
   "execution_count": null,
   "id": "2311cda7-aaf1-4173-b949-c76927f5dee9",
   "metadata": {},
   "outputs": [],
   "source": [
    "# Strip column names of extra spaces just in case  \n",
    "df.columns = df.columns.str.strip()"
   ]
  },
  {
   "cell_type": "code",
   "execution_count": null,
   "id": "53b2a4a7-3c62-4646-8cf4-580f1bbac411",
   "metadata": {},
   "outputs": [],
   "source": [
    "# Filter for Uttar Pradesh (or another valid state from df['State'].unique())\n",
    "df_up = df[df[\"State\"] == \"Uttar Pradesh\"]\n",
    "print(\"Rows after filtering:\", df_up.shape)"
   ]
  },
  {
   "cell_type": "code",
   "execution_count": null,
   "id": "cd8a2a37-dcf7-4a2c-b480-be2d5b5069ec",
   "metadata": {},
   "outputs": [],
   "source": [
    "# Drop NaNs just in case    alg alg run kro esko  drop ho gye h phir bhi error\n",
    "df_up = df_up.dropna()"
   ]
  },
  {
   "cell_type": "code",
   "execution_count": null,
   "id": "233b97b6-7cba-4051-8a24-c631e1e74e6d",
   "metadata": {},
   "outputs": [],
   "source": [
    "# Select features and label\n",
    "X = df_up[[\"Annual_Rainfall\", \"Fertilizer\", \"Pesticide\", \"Area\"]]\n",
    "y = df_up[\"Yield\"]"
   ]
  },
  {
   "cell_type": "code",
   "execution_count": null,
   "id": "3888337c-05f8-4ea9-aacd-9376cb2e2927",
   "metadata": {},
   "outputs": [],
   "source": [
    "print(\"X shape:\", X.shape)\n",
    "print(\"y shape:\", y.shape)"
   ]
  },
  {
   "cell_type": "code",
   "execution_count": null,
   "id": "b5e3df98-9d63-43fc-b8dd-dc97b6a55cee",
   "metadata": {},
   "outputs": [],
   "source": [
    "# Only split if data exists\n",
    "if len(X) > 0:\n",
    "    from sklearn.model_selection import train_test_split\n",
    "    X_train, X_test, y_train, y_test = train_test_split(\n",
    "        X, y, test_size=0.2, random_state=42)\n",
    "else:\n",
    "    print(\" No data to split — filtering returned empty DataFrame\")"
   ]
  },
  {
   "cell_type": "code",
   "execution_count": null,
   "id": "7958a3cd-4041-4955-b553-a75e6feb7700",
   "metadata": {},
   "outputs": [],
   "source": [
    "df = pd.read_csv(\"C:\\\\crop_yield.csv\")\n",
    "\n",
    "# Strip column names of extra spaces just in case\n",
    "df.columns = df.columns.str.strip()\n",
    "\n",
    "# Filter for Uttar Pradesh (or another valid state from df['State'].unique())\n",
    "df_up = df[df[\"State\"] == \"Uttar Pradesh\"]\n",
    "print(\"Rows after filtering:\", df_up.shape)\n",
    "\n",
    "# Drop NaNs just in case    alg alg run kro esko \n",
    "df_up = df_up.dropna()\n",
    "\n",
    "# Select features and label\n",
    "X = df_up[[\"Annual_Rainfall\", \"Fertilizer\", \"Pesticide\", \"Area\"]]\n",
    "y = df_up[\"Yield\"]\n",
    "\n",
    "print(\"X shape:\", X.shape)\n",
    "print(\"y shape:\", y.shape)\n",
    "\n",
    "# Only split if data exists\n",
    "if len(X) > 0:\n",
    "    from sklearn.model_selection import train_test_split\n",
    "    X_train, X_test, y_train, y_test = train_test_split(\n",
    "        X, y, test_size=0.2, random_state=42)\n",
    "else:\n",
    "    print(\" No data to split — filtering returned empty DataFrame\")"
   ]
  },
  {
   "cell_type": "code",
   "execution_count": null,
   "id": "c76d326e-8956-4b0b-bb75-4b964d7e6b93",
   "metadata": {},
   "outputs": [],
   "source": [
    "import pandas as pd \n",
    "crop_yield_df = pd.read_csv(\"C:\\\\crop_yield.csv\", encoding = 'utf-8')\n",
    "print(crop_yield_df.isna().sum()) "
   ]
  },
  {
   "cell_type": "code",
   "execution_count": null,
   "id": "8291b466-a5de-4bf6-9159-67b7c88a0e0b",
   "metadata": {},
   "outputs": [],
   "source": [
    "# Load UP crop yield dataset\n",
    "crop_yield_df = pd.read_csv(\"C:\\\\crop_yield.csv\")\n",
    "\n",
    "# Ensure timestamp consistency before merging\n",
    "crop_yield_df['Data Acquisition Time'] = pd.to_datetime(crop_yield_df['Crop_Year'].astype(str) + \"-01-01\")\n",
    "\n",
    "# Merge with weather dataset\n",
    "merged1_df = pd.concat([crop_yield_df, merged_df], axis = 0, join= 'outer', ignore_index=False)\n",
    "\n",
    "print(\"Crop Yield merged successfully!\")   #  :)"
   ]
  },
  {
   "cell_type": "code",
   "execution_count": null,
   "id": "73ca71d8-f30b-4540-8b35-64c81dcb6dec",
   "metadata": {},
   "outputs": [],
   "source": [
    "print(merged_df.columns)"
   ]
  },
  {
   "cell_type": "code",
   "execution_count": null,
   "id": "6868b791-9bb2-4954-b581-ce392ceea08a",
   "metadata": {},
   "outputs": [],
   "source": [
    "print(crop_yield_df.columns)     "
   ]
  },
  {
   "cell_type": "code",
   "execution_count": null,
   "id": "35d9c7a8-e83f-426c-9e29-8a9a7cf7d59d",
   "metadata": {},
   "outputs": [],
   "source": [
    "crop_yield_df['Data Acquisition Time'] = pd.to_datetime(crop_yield_df['Crop_Year'])"
   ]
  },
  {
   "cell_type": "code",
   "execution_count": null,
   "id": "f823ffbd-5067-4e39-9b79-995c3c069cb8",
   "metadata": {},
   "outputs": [],
   "source": [
    "print(\"Checking if merged_df exists...\")  \n",
    "if 'merged_df' in globals():  \n",
    "    print(\" merged_df exists!\")  \n",
    "else:  \n",
    "    print(\" merged_df is NOT defined!\")"
   ]
  },
  {
   "cell_type": "code",
   "execution_count": null,
   "id": "9d8913f9-9dc4-456a-99ed-7d5f85045625",
   "metadata": {},
   "outputs": [],
   "source": [
    "data = pd.read_csv('final_weather_data.csv', low_memory = False) \n",
    "print(data.head()) "
   ]
  },
  {
   "cell_type": "code",
   "execution_count": null,
   "id": "78ac79c5-d962-4666-bd6b-1e4dc8195411",
   "metadata": {},
   "outputs": [],
   "source": [
    "print(merged_df.shape)\n",
    "print(merged_df.head())"
   ]
  },
  {
   "cell_type": "code",
   "execution_count": null,
   "id": "817f8bcd-e373-4a1c-8380-5724a118dff1",
   "metadata": {},
   "outputs": [],
   "source": [
    "print(crop_yield_df.columns)"
   ]
  },
  {
   "cell_type": "code",
   "execution_count": null,
   "id": "f976a596-2484-4418-aaf5-1d4807bcaa28",
   "metadata": {},
   "outputs": [],
   "source": [
    "crop_yield_df['Year'] = 2023  # Example default year, update as needed\n",
    "crop_yield_df['Data Acquisition Time'] = pd.to_datetime(crop_yield_df['Year'].astype(str) + \"-01-01\")"
   ]
  },
  {
   "cell_type": "code",
   "execution_count": null,
   "id": "c4cc0c21-4db7-421e-9633-31db4fb01fd6",
   "metadata": {},
   "outputs": [],
   "source": [
    "print(humidity.columns)\n",
    "print(temperature.columns)\n",
    "print(windspeed.columns)\n",
    "print(rainfall.columns)"
   ]
  },
  {
   "cell_type": "code",
   "execution_count": null,
   "id": "97308a0f-14ef-46c8-bb64-6fbe9d059d4e",
   "metadata": {},
   "outputs": [],
   "source": [
    "print(data.columns)"
   ]
  },
  {
   "cell_type": "code",
   "execution_count": null,
   "id": "5c6e3687-459b-48ee-bfe1-50832c823400",
   "metadata": {},
   "outputs": [],
   "source": [
    "print(merged1_df.columns)"
   ]
  },
  {
   "cell_type": "code",
   "execution_count": null,
   "id": "ceb4aa32-e8e8-4357-bbb4-ef7fb75f22cd",
   "metadata": {},
   "outputs": [],
   "source": [
    "from sklearn.model_selection import train_test_split\n",
    "from sklearn.linear_model import LinearRegression\n",
    "from sklearn.ensemble import RandomForestRegressor\n",
    "from sklearn.metrics import mean_absolute_error, mean_squared_error\n",
    "\n",
    "#define features & targets\n",
    "\n",
    "X = merged1_df.drop(columns=['Crop'])  \n",
    "y = merged1_df['Crop']   \n",
    "\n",
    "X_train, X_test, y_train, y_test = train_test_split(X, y, test_size=0.2, random_state=42)\n",
    "\n",
    "# Train model\n",
    "model = RandomForestRegressor(n_estimators=100, random_state=42)  \n",
    "model.fit(X_train, y_train)  \n",
    "\n",
    "\n",
    "# Evaluate\n",
    "y_pred = model.predict(X_test)  \n",
    "print(\"MAE:\", mean_absolute_error(y_test, y_pred))  \n",
    "print(\"MSE:\", mean_squared_error(y_test, y_pred))   "
   ]
  },
  {
   "cell_type": "code",
   "execution_count": null,
   "id": "f1731619-568d-4c89-a821-3d3567085d8a",
   "metadata": {},
   "outputs": [],
   "source": [
    "print(merged1_df.columns)"
   ]
  },
  {
   "cell_type": "code",
   "execution_count": null,
   "id": "631754f8-e696-4bbd-bc04-84597dd03ae1",
   "metadata": {},
   "outputs": [],
   "source": [
    "print(\"Available columns:\", merged1_df.columns)"
   ]
  },
  {
   "cell_type": "code",
   "execution_count": null,
   "id": "8d9c2d40-e7b6-4904-8dca-627c4072d757",
   "metadata": {},
   "outputs": [],
   "source": [
    "print(crop_yield_df.isna().sum()) #fir se read kraana hoga ese , dekhte hain kahan read kraaya hai  jo whatsapp se copy ki thi"
   ]
  },
  {
   "cell_type": "code",
   "execution_count": null,
   "id": "12bfbb6a-72d4-4dad-80ec-4dcbbeaa8142",
   "metadata": {},
   "outputs": [],
   "source": [
    "print(list(rainfall.columns))"
   ]
  },
  {
   "cell_type": "code",
   "execution_count": 145,
   "id": "8c4bc5d3-c84d-40ec-9b0d-75720f83b518",
   "metadata": {},
   "outputs": [
    {
     "name": "stdout",
     "output_type": "stream",
     "text": [
      "MAE: 0.624938664955819\n",
      "MSE: 6.3888667017697065\n"
     ]
    }
   ],
   "source": [
    "from sklearn.linear_model import LinearRegression\n",
    "from sklearn.ensemble import RandomForestRegressor\n",
    "from sklearn.metrics import mean_absolute_error, mean_squared_error\n",
    "\n",
    "#define features & targets\n",
    "X = df_up[['Annual_Rainfall','Area','Fertilizer','Pesticide','Crop_Year','Production']] # krke then access kr skte hain , merge kj\n",
    "y = df_up['Yield']\n",
    "\n",
    "# Train-test split\n",
    "X_train, X_test, y_train, y_test = train_test_split(X, y, test_size=0.2, random_state=42)\n",
    "\n",
    "# Train model\n",
    "model = RandomForestRegressor(n_estimators=100, random_state=42)  \n",
    "model.fit(X_train, y_train)  \n",
    "\n",
    "# Evaluate\n",
    "y_pred = model.predict(X_test)  \n",
    "print(\"MAE:\", mean_absolute_error(y_test, y_pred))  \n",
    "print(\"MSE:\", mean_squared_error(y_test, y_pred))"
   ]
  },
  {
   "cell_type": "code",
   "execution_count": null,
   "id": "0c937f74-23d7-4d87-bf97-a21f0c453d55",
   "metadata": {},
   "outputs": [],
   "source": [
    "#done"
   ]
  },
  {
   "cell_type": "code",
   "execution_count": null,
   "id": "a9ef2f61-d001-43ba-b1e8-3d70c76f2080",
   "metadata": {},
   "outputs": [],
   "source": [
    "!pip install fsspec"
   ]
  },
  {
   "cell_type": "code",
   "execution_count": 147,
   "id": "95ec0ad4-0c7e-4dd6-aa9d-0a55699070a6",
   "metadata": {},
   "outputs": [
    {
     "name": "stdout",
     "output_type": "stream",
     "text": [
      "         Date     State Name    DistrictName  \\\n",
      "0  2020/01/31  UTTAR PRADESH     FARRUKHABAD   \n",
      "1  2020/01/31  UTTAR PRADESH         LUCKNOW   \n",
      "2  2020/01/31  UTTAR PRADESH           KHERI   \n",
      "3  2020/01/31  UTTAR PRADESH       CHANDAULI   \n",
      "4  2020/01/31  UTTAR PRADESH  AMBEDKAR NAGAR   \n",
      "\n",
      "   Average Soilmoisture Level (at 15cm)  \\\n",
      "0                                  0.05   \n",
      "1                                  0.45   \n",
      "2                                  0.08   \n",
      "3                                  0.00   \n",
      "4                                  0.00   \n",
      "\n",
      "   Average SoilMoisture Volume (at 15cm)  \\\n",
      "0                                 189.08   \n",
      "1                                 298.77   \n",
      "2                                 920.21   \n",
      "3                                 216.22   \n",
      "4                                 236.05   \n",
      "\n",
      "   Aggregate Soilmoisture Percentage (at 15cm)  \\\n",
      "0                                         0.23   \n",
      "1                                         3.26   \n",
      "2                                         0.74   \n",
      "3                                         0.00   \n",
      "4                                         0.00   \n",
      "\n",
      "   Volume Soilmoisture percentage (at 15cm)  \n",
      "0                                     16.93  \n",
      "1                                     23.05  \n",
      "2                                     23.31  \n",
      "3                                     16.76  \n",
      "4                                     19.98  \n"
     ]
    }
   ],
   "source": [
    "import requests\n",
    "import pandas as pd\n",
    "import matplotlib as plt\n",
    "\n",
    "# Fetch real-time soil moisture data\n",
    "csv_path  = \"C://sm_UttarPradesh_2020.csv\"\n",
    "soil_moisture_df = pd.read_csv(csv_path, encoding=\"ISO-8859-1\")\n",
    "\n",
    "\n",
    "\n",
    "print(soil_moisture_df.head())"
   ]
  },
  {
   "cell_type": "code",
   "execution_count": 152,
   "id": "4606f41f-f21c-4aa3-82ac-4e2ef7b69e3d",
   "metadata": {},
   "outputs": [
    {
     "name": "stdout",
     "output_type": "stream",
     "text": [
      "Checking if soil_moisture_df exists...\n",
      " soil_moisture_df exists!\n"
     ]
    }
   ],
   "source": [
    "print(\"Checking if soil_moisture_df exists...\")  \n",
    "if 'soil_moisture_df' in globals():  \n",
    "    print(\" soil_moisture_df exists!\")  \n",
    "else:  \n",
    "    print(\" soil_moisture_df is NOT defined!\")"
   ]
  },
  {
   "cell_type": "code",
   "execution_count": 153,
   "id": "802a940f-914f-4a6d-a54b-4b62ddcfda3a",
   "metadata": {},
   "outputs": [
    {
     "name": "stdout",
     "output_type": "stream",
     "text": [
      "Index(['Date', 'State Name', 'DistrictName',\n",
      "       'Average Soilmoisture Level (at 15cm)',\n",
      "       'Average SoilMoisture Volume (at 15cm)',\n",
      "       'Aggregate Soilmoisture Percentage (at 15cm)',\n",
      "       'Volume Soilmoisture percentage (at 15cm)'],\n",
      "      dtype='object')\n"
     ]
    }
   ],
   "source": [
    "print(soil_moisture_df.columns)"
   ]
  },
  {
   "cell_type": "code",
   "execution_count": 154,
   "id": "c8a9af65-a62f-429b-8f70-419c11e9b058",
   "metadata": {},
   "outputs": [],
   "source": [
    "import pandas as pd\n",
    "\n",
    "soil_moisture_df['Average Soilmoisture Level (at 15cm)'] = pd.to_datetime(soil_moisture_df['Average Soilmoisture Level (at 15cm)']) "
   ]
  },
  {
   "cell_type": "code",
   "execution_count": 155,
   "id": "a88ae000-9eb7-4489-a8ac-7a5f15b18890",
   "metadata": {},
   "outputs": [
    {
     "name": "stdout",
     "output_type": "stream",
     "text": [
      "Checking if merged_df exists...\n",
      " merged1_df exists!\n"
     ]
    }
   ],
   "source": [
    "print(\"Checking if merged_df exists...\")  \n",
    "if 'merged1_df' in globals():  \n",
    "    print(\" merged1_df exists!\")  \n",
    "else:  \n",
    "    print(\"merged1_df is NOT defined!\") "
   ]
  },
  {
   "cell_type": "code",
   "execution_count": 156,
   "id": "7dde4df0-b933-444d-9bc6-78d1e7bdaa7b",
   "metadata": {},
   "outputs": [
    {
     "name": "stdout",
     "output_type": "stream",
     "text": [
      "Crop                                                          object\n",
      "Crop_Year                                                    float64\n",
      "Season                                                        object\n",
      "State                                                         object\n",
      "Area                                                         float64\n",
      "                                                              ...   \n",
      "SubSubtributary_rainfall_rainfall_rainfall                    object\n",
      "Local River_rainfall_rainfall_rainfall                        object\n",
      "Latitude_rainfall_rainfall_rainfall                          float64\n",
      "Longitude_rainfall_rainfall_rainfall                         float64\n",
      "Telemetry Hourly Rainfall (mm)_rainfall_rainfall_rainfall    float64\n",
      "Length: 87, dtype: object\n"
     ]
    }
   ],
   "source": [
    "print(merged1_df.dtypes)"
   ]
  },
  {
   "cell_type": "code",
   "execution_count": 164,
   "id": "5f648ca8-86f9-4f42-91db-901dffad9e7c",
   "metadata": {},
   "outputs": [],
   "source": [
    "merged1_df['Data Acquisition Time'] = pd.to_datetime(merged1_df['Data Acquisition Time'], errors='coerce')"
   ]
  },
  {
   "cell_type": "code",
   "execution_count": 165,
   "id": "99cb3fa2-3d77-4b7e-80b9-d72b05690d01",
   "metadata": {},
   "outputs": [
    {
     "name": "stdout",
     "output_type": "stream",
     "text": [
      "Date                                                   object\n",
      "State Name                                             object\n",
      "DistrictName                                           object\n",
      "Average Soilmoisture Level (at 15cm)           datetime64[ns]\n",
      "Average SoilMoisture Volume (at 15cm)                 float64\n",
      "Aggregate Soilmoisture Percentage (at 15cm)           float64\n",
      "Volume Soilmoisture percentage (at 15cm)              float64\n",
      "dtype: object\n"
     ]
    }
   ],
   "source": [
    "print(soil_moisture_df.dtypes)"
   ]
  },
  {
   "cell_type": "code",
   "execution_count": 166,
   "id": "d8807c57-04b3-4bfd-99d1-30d5ab35630c",
   "metadata": {
    "scrolled": true
   },
   "outputs": [
    {
     "name": "stdout",
     "output_type": "stream",
     "text": [
      "Merged1 DataFrame Columns: ['Crop', 'Crop_Year', 'Season', 'State', 'Area', 'Production', 'Annual_Rainfall', 'Fertilizer', 'Pesticide', 'Yield', 'Data Acquisition Time', 'SlNo_humidity_humidity_humidity', 'Station_humidity_humidity_humidity', 'Agency_humidity_humidity_humidity', 'State LGD Code_humidity_humidity_humidity', 'State_humidity_humidity_humidity', 'District LGD Code_humidity_humidity_humidity', 'District_humidity_humidity_humidity', 'Tehsil_humidity_humidity_humidity', 'Block_humidity_humidity_humidity', 'Village_humidity_humidity_humidity', 'River_humidity_humidity_humidity', 'Basin_humidity_humidity_humidity', 'Tributary_humidity_humidity_humidity', 'Subtributary_humidity_humidity_humidity', 'SubSubtributary_humidity_humidity_humidity', 'Local River_humidity_humidity_humidity', 'Latitude_humidity_humidity_humidity', 'Longitude_humidity_humidity_humidity', 'Telemetry Hourly Relative Humidity (%)_humidity_humidity_humidity', 'SlNo_temperature_temperature_temperature', 'Station_temperature_temperature_temperature', 'Agency_temperature_temperature_temperature', 'State LGD Code_temperature_temperature_temperature', 'State_temperature_temperature_temperature', 'District LGD Code_temperature_temperature_temperature', 'District_temperature_temperature_temperature', 'Tehsil_temperature_temperature_temperature', 'Block_temperature_temperature_temperature', 'Village_temperature_temperature_temperature', 'River_temperature_temperature_temperature', 'Basin_temperature_temperature_temperature', 'Tributary_temperature_temperature_temperature', 'Subtributary_temperature_temperature_temperature', 'SubSubtributary_temperature_temperature_temperature', 'Local River_temperature_temperature_temperature', 'Latitude_temperature_temperature_temperature', 'Longitude_temperature_temperature_temperature', 'Air Temperature Telemetry Hourly (ÂºC)_temperature_temperature_temperature', 'SlNo_windspeed_windspeed_windspeed', 'Station_windspeed_windspeed_windspeed', 'Agency_windspeed_windspeed_windspeed', 'State LGD Code_windspeed_windspeed_windspeed', 'State_windspeed_windspeed_windspeed', 'District LGD Code_windspeed_windspeed_windspeed', 'District_windspeed_windspeed_windspeed', 'Tehsil_windspeed_windspeed_windspeed', 'Block_windspeed_windspeed_windspeed', 'Village_windspeed_windspeed_windspeed', 'River_windspeed_windspeed_windspeed', 'Basin_windspeed_windspeed_windspeed', 'Tributary_windspeed_windspeed_windspeed', 'Subtributary_windspeed_windspeed_windspeed', 'SubSubtributary_windspeed_windspeed_windspeed', 'Local River_windspeed_windspeed_windspeed', 'Latitude_windspeed_windspeed_windspeed', 'Longitude_windspeed_windspeed_windspeed', 'Telemetry Hourly Wind Speed (Km/Hr)_windspeed_windspeed_windspeed', 'SlNo_rainfall_rainfall_rainfall', 'Station_rainfall_rainfall_rainfall', 'Agency_rainfall_rainfall_rainfall', 'State LGD Code_rainfall_rainfall_rainfall', 'State_rainfall_rainfall_rainfall', 'District LGD Code_rainfall_rainfall_rainfall', 'District_rainfall_rainfall_rainfall', 'Tehsil_rainfall_rainfall_rainfall', 'Block_rainfall_rainfall_rainfall', 'Village_rainfall_rainfall_rainfall', 'River_rainfall_rainfall_rainfall', 'Basin_rainfall_rainfall_rainfall', 'Tributary_rainfall_rainfall_rainfall', 'Subtributary_rainfall_rainfall_rainfall', 'SubSubtributary_rainfall_rainfall_rainfall', 'Local River_rainfall_rainfall_rainfall', 'Latitude_rainfall_rainfall_rainfall', 'Longitude_rainfall_rainfall_rainfall', 'Telemetry Hourly Rainfall (mm)_rainfall_rainfall_rainfall']\n",
      "Soil Moisture DataFrame Columns: ['Date', 'State Name', 'DistrictName', 'Average Soilmoisture Level (at 15cm)', 'Average SoilMoisture Volume (at 15cm)', 'Aggregate Soilmoisture Percentage (at 15cm)', 'Volume Soilmoisture percentage (at 15cm)']\n"
     ]
    }
   ],
   "source": [
    "print(\"Merged1 DataFrame Columns:\", merged1_df.columns.tolist())  \n",
    "print(\"Soil Moisture DataFrame Columns:\", soil_moisture_df.columns.tolist())"
   ]
  },
  {
   "cell_type": "code",
   "execution_count": 167,
   "id": "7636f94d-2790-4d69-a17d-be5d33d4dcaa",
   "metadata": {},
   "outputs": [],
   "source": [
    "soil_moisture_df.rename(columns={\"Date\": \"Data Acquisition Time\"}, inplace=True)"
   ]
  },
  {
   "cell_type": "code",
   "execution_count": 170,
   "id": "4599f1eb-3b85-427c-af84-a6549637f203",
   "metadata": {},
   "outputs": [],
   "source": [
    "merged1_df['Data Acquisition Time'] = pd.to_datetime(merged1_df['Data Acquisition Time'], errors='coerce')\n",
    "soil_moisture_df['Data Acquisition Time'] = pd.to_datetime(soil_moisture_df['Data Acquisition Time'], errors='coerce')   # ye bhi shi kiya tha"
   ]
  },
  {
   "cell_type": "code",
   "execution_count": 171,
   "id": "1232c05e-6b15-408a-8fb8-603d062f5093",
   "metadata": {},
   "outputs": [
    {
     "name": "stdout",
     "output_type": "stream",
     "text": [
      "0\n",
      "0\n"
     ]
    }
   ],
   "source": [
    "print(merged1_df['Data Acquisition Time'].isnull().sum())  \n",
    "print(soil_moisture_df['Data Acquisition Time'].isnull().sum())  \n",
    "\n",
    "# Remove rows where 'Data Acquisition Time' is null\n",
    "merged1_df.dropna(subset=['Data Acquisition Time'], inplace=True)\n",
    "soil_moisture_df.dropna(subset=['Data Acquisition Time'], inplace=True) "
   ]
  },
  {
   "cell_type": "code",
   "execution_count": 172,
   "id": "b99621b6-eded-46a9-a1de-2a92164bdee9",
   "metadata": {},
   "outputs": [
    {
     "name": "stdout",
     "output_type": "stream",
     "text": [
      "Soil moisture data merged successfully!\n"
     ]
    }
   ],
   "source": [
    "merged_df = merged1_df.merge(soil_moisture_df, on='Data Acquisition Time', how='outer')\n",
    "\n",
    "print(\"Soil moisture data merged successfully!\")  "
   ]
  },
  {
   "cell_type": "code",
   "execution_count": null,
   "id": "5ce23d6f-c7d8-4d77-b58f-c867fdaa8fc7",
   "metadata": {},
   "outputs": [],
   "source": [
    "from sklearn.model_selection import GridSearchCV  \n",
    "from sklearn.ensemble import RandomForestRegressor\n",
    "# Define hyperparameter grid\n",
    "param_grid = {\n",
    "    'n_estimators': [50, 100, 200],\n",
    "    'max_depth': [None, 10, 20],\n",
    "    'min_samples_split': [2, 5, 10]\n",
    "}\n",
    "\n",
    "# Apply GridSearch\n",
    "grid_search = GridSearchCV(RandomForestRegressor(random_state=42), param_grid, cv=3)\n",
    "grid_search.fit(X_train, y_train)\n",
    "\n",
    "print(\"Best Parameters:\", grid_search.best_params_)"
   ]
  },
  {
   "cell_type": "code",
   "execution_count": 197,
   "id": "d85bee72-0f15-4743-a61b-5bf3a4aa20ab",
   "metadata": {},
   "outputs": [
    {
     "name": "stdout",
     "output_type": "stream",
     "text": [
      "Requirement already satisfied: flask in c:\\users\\pc\\appdata\\local\\programs\\python\\python312\\lib\\site-packages (3.1.1)\n",
      "Requirement already satisfied: blinker>=1.9.0 in c:\\users\\pc\\appdata\\local\\programs\\python\\python312\\lib\\site-packages (from flask) (1.9.0)\n",
      "Requirement already satisfied: click>=8.1.3 in c:\\users\\pc\\appdata\\local\\programs\\python\\python312\\lib\\site-packages (from flask) (8.2.1)\n",
      "Requirement already satisfied: itsdangerous>=2.2.0 in c:\\users\\pc\\appdata\\local\\programs\\python\\python312\\lib\\site-packages (from flask) (2.2.0)\n",
      "Requirement already satisfied: jinja2>=3.1.2 in c:\\users\\pc\\appdata\\local\\programs\\python\\python312\\lib\\site-packages (from flask) (3.1.6)\n",
      "Requirement already satisfied: markupsafe>=2.1.1 in c:\\users\\pc\\appdata\\local\\programs\\python\\python312\\lib\\site-packages (from flask) (3.0.2)\n",
      "Requirement already satisfied: werkzeug>=3.1.0 in c:\\users\\pc\\appdata\\local\\programs\\python\\python312\\lib\\site-packages (from flask) (3.1.3)\n",
      "Requirement already satisfied: colorama in c:\\users\\pc\\appdata\\local\\programs\\python\\python312\\lib\\site-packages (from click>=8.1.3->flask) (0.4.6)\n"
     ]
    }
   ],
   "source": [
    "!pip install flask"
   ]
  },
  {
   "cell_type": "code",
   "execution_count": 187,
   "id": "c4e0b8b9-d6ff-4015-a8c7-cb665fc07e90",
   "metadata": {},
   "outputs": [
    {
     "name": "stdout",
     "output_type": "stream",
     "text": [
      "Collecting gunicorn\n",
      "  Downloading gunicorn-23.0.0-py3-none-any.whl.metadata (4.4 kB)\n",
      "Requirement already satisfied: packaging in c:\\users\\pc\\appdata\\local\\programs\\python\\python312\\lib\\site-packages (from gunicorn) (24.2)\n",
      "Downloading gunicorn-23.0.0-py3-none-any.whl (85 kB)\n",
      "Installing collected packages: gunicorn\n",
      "Successfully installed gunicorn-23.0.0\n"
     ]
    }
   ],
   "source": [
    "!pip install gunicorn"
   ]
  },
  {
   "cell_type": "code",
   "execution_count": null,
   "id": "0ea876ca-525c-4935-a0ff-437e175e1163",
   "metadata": {},
   "outputs": [],
   "source": [
    "#done"
   ]
  },
  {
   "cell_type": "code",
   "execution_count": 6,
   "id": "4583f3da-0167-4815-a945-fcee5fd7d71f",
   "metadata": {},
   "outputs": [
    {
     "name": "stdout",
     "output_type": "stream",
     "text": [
      "   SlNo_humidity Station_humidity   Agency_humidity  State LGD Code_humidity  \\\n",
      "0        15204.0   UPSW_Gorakhpur  Uttar Pradesh SW                      9.0   \n",
      "1        15205.0   UPSW_Gorakhpur  Uttar Pradesh SW                      9.0   \n",
      "2        15206.0   UPSW_Gorakhpur  Uttar Pradesh SW                      9.0   \n",
      "3        15207.0   UPSW_Gorakhpur  Uttar Pradesh SW                      9.0   \n",
      "4        15208.0   UPSW_Gorakhpur  Uttar Pradesh SW                      9.0   \n",
      "\n",
      "  State_humidity  District LGD Code_humidity District_humidity  \\\n",
      "0  Uttar Pradesh                       148.0         GORAKHPUR   \n",
      "1  Uttar Pradesh                       148.0         GORAKHPUR   \n",
      "2  Uttar Pradesh                       148.0         GORAKHPUR   \n",
      "3  Uttar Pradesh                       148.0         GORAKHPUR   \n",
      "4  Uttar Pradesh                       148.0         GORAKHPUR   \n",
      "\n",
      "  Tehsil_humidity Block_humidity Village_humidity  ... Village_rainfall  \\\n",
      "0       Gorakhpur              -                -  ...              NaN   \n",
      "1       Gorakhpur              -                -  ...              NaN   \n",
      "2       Gorakhpur              -                -  ...              NaN   \n",
      "3       Gorakhpur              -                -  ...              NaN   \n",
      "4       Gorakhpur              -                -  ...              NaN   \n",
      "\n",
      "  River_rainfall Basin_rainfall Tributary_rainfall Subtributary_rainfall  \\\n",
      "0            NaN            NaN                NaN                   NaN   \n",
      "1            NaN            NaN                NaN                   NaN   \n",
      "2            NaN            NaN                NaN                   NaN   \n",
      "3            NaN            NaN                NaN                   NaN   \n",
      "4            NaN            NaN                NaN                   NaN   \n",
      "\n",
      "  SubSubtributary_rainfall  Local River_rainfall  Latitude_rainfall  \\\n",
      "0                      NaN                   NaN                NaN   \n",
      "1                      NaN                   NaN                NaN   \n",
      "2                      NaN                   NaN                NaN   \n",
      "3                      NaN                   NaN                NaN   \n",
      "4                      NaN                   NaN                NaN   \n",
      "\n",
      "  Longitude_rainfall  Telemetry Hourly Rainfall (mm)_rainfall  \n",
      "0                NaN                                      NaN  \n",
      "1                NaN                                      NaN  \n",
      "2                NaN                                      NaN  \n",
      "3                NaN                                      NaN  \n",
      "4                NaN                                      NaN  \n",
      "\n",
      "[5 rows x 77 columns]\n"
     ]
    }
   ],
   "source": [
    "import pandas as pd\n",
    "\n",
    "chunks = []\n",
    "for chunk in pd.read_csv(\"C:\\\\Users\\\\pc\\\\final_weather_data.csv\", chunksize=50000, encoding=\"utf-8\", low_memory=False):\n",
    "    chunks.append(chunk)\n",
    "\n",
    "data = pd.concat(chunks, ignore_index=True)\n",
    "print(data.head())"
   ]
  },
  {
   "cell_type": "code",
   "execution_count": 13,
   "id": "24672b0d-d1a6-4645-9323-190120d2a103",
   "metadata": {},
   "outputs": [
    {
     "name": "stdout",
     "output_type": "stream",
     "text": [
      "Index(['SlNo_humidity', 'Station_humidity', 'Agency_humidity',\n",
      "       'State LGD Code_humidity', 'State_humidity',\n",
      "       'District LGD Code_humidity', 'District_humidity', 'Tehsil_humidity',\n",
      "       'Block_humidity', 'Village_humidity', 'River_humidity',\n",
      "       'Basin_humidity', 'Tributary_humidity', 'Subtributary_humidity',\n",
      "       'SubSubtributary_humidity', 'Local River_humidity', 'Latitude_humidity',\n",
      "       'Longitude_humidity', 'Data Acquisition Time',\n",
      "       'Telemetry Hourly Relative Humidity (%)_humidity', 'SlNo_temperature',\n",
      "       'Station_temperature', 'Agency_temperature',\n",
      "       'State LGD Code_temperature', 'State_temperature',\n",
      "       'District LGD Code_temperature', 'District_temperature',\n",
      "       'Tehsil_temperature', 'Block_temperature', 'Village_temperature',\n",
      "       'River_temperature', 'Basin_temperature', 'Tributary_temperature',\n",
      "       'Subtributary_temperature', 'SubSubtributary_temperature',\n",
      "       'Local River_temperature', 'Latitude_temperature',\n",
      "       'Longitude_temperature',\n",
      "       'Air Temperature Telemetry Hourly (ÂºC)_temperature', 'SlNo_windspeed',\n",
      "       'Station_windspeed', 'Agency_windspeed', 'State LGD Code_windspeed',\n",
      "       'State_windspeed', 'District LGD Code_windspeed', 'District_windspeed',\n",
      "       'Tehsil_windspeed', 'Block_windspeed', 'Village_windspeed',\n",
      "       'River_windspeed', 'Basin_windspeed', 'Tributary_windspeed',\n",
      "       'Subtributary_windspeed', 'SubSubtributary_windspeed',\n",
      "       'Local River_windspeed', 'Latitude_windspeed', 'Longitude_windspeed',\n",
      "       'Telemetry Hourly Wind Speed (Km/Hr)_windspeed', 'SlNo_rainfall',\n",
      "       'Station_rainfall', 'Agency_rainfall', 'State LGD Code_rainfall',\n",
      "       'State_rainfall', 'District LGD Code_rainfall', 'District_rainfall',\n",
      "       'Tehsil_rainfall', 'Block_rainfall', 'Village_rainfall',\n",
      "       'River_rainfall', 'Basin_rainfall', 'Tributary_rainfall',\n",
      "       'Subtributary_rainfall', 'SubSubtributary_rainfall',\n",
      "       'Local River_rainfall', 'Latitude_rainfall', 'Longitude_rainfall',\n",
      "       'Telemetry Hourly Rainfall (mm)_rainfall'],\n",
      "      dtype='object')\n"
     ]
    }
   ],
   "source": [
    "print(data.columns)"
   ]
  },
  {
   "cell_type": "code",
   "execution_count": 24,
   "id": "5a8c0ea9-b528-4198-b8ca-b3f1f0d5bac5",
   "metadata": {},
   "outputs": [
    {
     "name": "stdout",
     "output_type": "stream",
     "text": [
      "Available columns: ['SlNo_humidity', 'Station_humidity', 'Agency_humidity', 'State LGD Code_humidity', 'State_humidity', 'District LGD Code_humidity', 'District_humidity', 'Tehsil_humidity', 'Block_humidity', 'Village_humidity', 'River_humidity', 'Basin_humidity', 'Tributary_humidity', 'Subtributary_humidity', 'SubSubtributary_humidity', 'Local River_humidity', 'Latitude_humidity', 'Longitude_humidity', 'Data Acquisition Time', 'Telemetry Hourly Relative Humidity (%)_humidity', 'SlNo_temperature', 'Station_temperature', 'Agency_temperature', 'State LGD Code_temperature', 'State_temperature', 'District LGD Code_temperature', 'District_temperature', 'Tehsil_temperature', 'Block_temperature', 'Village_temperature', 'River_temperature', 'Basin_temperature', 'Tributary_temperature', 'Subtributary_temperature', 'SubSubtributary_temperature', 'Local River_temperature', 'Latitude_temperature', 'Longitude_temperature', 'Air Temperature Telemetry Hourly (ÂºC)_temperature', 'SlNo_windspeed', 'Station_windspeed', 'Agency_windspeed', 'State LGD Code_windspeed', 'State_windspeed', 'District LGD Code_windspeed', 'District_windspeed', 'Tehsil_windspeed', 'Block_windspeed', 'Village_windspeed', 'River_windspeed', 'Basin_windspeed', 'Tributary_windspeed', 'Subtributary_windspeed', 'SubSubtributary_windspeed', 'Local River_windspeed', 'Latitude_windspeed', 'Longitude_windspeed', 'Telemetry Hourly Wind Speed (Km/Hr)_windspeed', 'SlNo_rainfall', 'Station_rainfall', 'Agency_rainfall', 'State LGD Code_rainfall', 'State_rainfall', 'District LGD Code_rainfall', 'District_rainfall', 'Tehsil_rainfall', 'Block_rainfall', 'Village_rainfall', 'River_rainfall', 'Basin_rainfall', 'Tributary_rainfall', 'Subtributary_rainfall', 'SubSubtributary_rainfall', 'Local River_rainfall', 'Latitude_rainfall', 'Longitude_rainfall', 'Telemetry Hourly Rainfall (mm)_rainfall']\n"
     ]
    }
   ],
   "source": [
    "print(\"Available columns:\", data.columns.tolist())  # Check full list"
   ]
  },
  {
   "cell_type": "code",
   "execution_count": null,
   "id": "a6afe2bc-d5d1-417b-a382-0b031368788e",
   "metadata": {
    "scrolled": true
   },
   "outputs": [],
   "source": [
    "\n",
    "data = pd.read_csv(\"final_weather_data.csv\", on_bad_lines=\"skip\", low_memory=False)"
   ]
  },
  {
   "cell_type": "code",
   "execution_count": 192,
   "id": "ea886ef1-700c-4189-adb7-294fc12e4360",
   "metadata": {},
   "outputs": [],
   "source": [
    "import pandas as pd\n",
    "\n",
    "# Dummy data example\n",
    "data = pd.DataFrame({\n",
    "    'Year': [2020, 2021, 2022, 2023, 2024, 2025],\n",
    "    'Yield': [500, 520, 510, 530, 545, 560]\n",
    "})"
   ]
  },
  {
   "cell_type": "code",
   "execution_count": 193,
   "id": "d596a06a-136a-4f84-bd20-d673773afbcf",
   "metadata": {},
   "outputs": [],
   "source": [
    "import pandas as pd\n",
    "data['Year'] = pd.to_datetime(data['Year'], format=\"%Y\")  # Datetime format me change karo"
   ]
  },
  {
   "cell_type": "code",
   "execution_count": 194,
   "id": "ea32cb3c-4d70-4f7d-8e29-02673bb641b2",
   "metadata": {},
   "outputs": [],
   "source": [
    "import matplotlib.pyplot as plt\n",
    "import seaborn as sns"
   ]
  },
  {
   "cell_type": "code",
   "execution_count": 195,
   "id": "a17cd5b2-afc2-4be9-b606-1040879d61c5",
   "metadata": {},
   "outputs": [
    {
     "data": {
      "text/plain": [
       "<Figure size 1000x600 with 0 Axes>"
      ]
     },
     "execution_count": 195,
     "metadata": {},
     "output_type": "execute_result"
    },
    {
     "data": {
      "text/plain": [
       "<Figure size 1000x600 with 0 Axes>"
      ]
     },
     "metadata": {},
     "output_type": "display_data"
    }
   ],
   "source": [
    "plt.figure(figsize=(10,6))"
   ]
  },
  {
   "cell_type": "code",
   "execution_count": 196,
   "id": "3471fcc0-07c6-457e-88cb-9cdfeda17707",
   "metadata": {},
   "outputs": [
    {
     "name": "stdout",
     "output_type": "stream",
     "text": [
      "        Year  Yield\n",
      "0 2020-01-01    500\n",
      "1 2021-01-01    520\n",
      "2 2022-01-01    510\n",
      "3 2023-01-01    530\n",
      "4 2024-01-01    545\n",
      "Year     datetime64[ns]\n",
      "Yield             int64\n",
      "dtype: object\n"
     ]
    }
   ],
   "source": [
    "print(data.head())  # Verify Year & Yield columns exist\n",
    "print(data.dtypes)  # Check column types"
   ]
  },
  {
   "cell_type": "code",
   "execution_count": 113,
   "id": "7ba7cc77-d2c5-42ec-9d40-3cef987061f5",
   "metadata": {},
   "outputs": [
    {
     "data": {
      "image/png": "[encoded data removed]",
      "text/plain": [
       "<Figure size 640x480 with 1 Axes>"
      ]
     },
     "metadata": {},
     "output_type": "display_data"
    }
   ],
   "source": [
    "sns.lineplot(x='Year', y='Yield' , data = data,marker= 'o', color=\"blue\")  \n",
    "plt.title(\"Crop yoeld trend in Uttar Pradesh\")\n",
    "plt.xlabel(\"Year\")\n",
    "plt.ylabel(\"Yield(tons)\")\n",
    "plt.show()"
   ]
  }
 ],
 "metadata": {
  "kernelspec": {
   "display_name": "Python 3 (ipykernel)",
   "language": "python",
   "name": "python3"
  },
  "language_info": {
   "codemirror_mode": {
    "name": "ipython",
    "version": 3
   },
   "file_extension": ".py",
   "mimetype": "text/x-python",
   "name": "python",
   "nbconvert_exporter": "python",
   "pygments_lexer": "ipython3",
   "version": "3.12.5"
  }
 },
 "nbformat": 4,
 "nbformat_minor": 5
}
